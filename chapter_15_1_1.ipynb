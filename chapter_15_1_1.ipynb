{
  "cells": [
    {
      "cell_type": "markdown",
      "metadata": {
        "id": "ob5HNPONePGt"
      },
      "source": [
        "## 예제 15-1-1  자연어 처리 모듈 알아보기"
      ]
    },
    {
      "cell_type": "markdown",
      "metadata": {
        "id": "APuriJ6kePGv"
      },
      "source": [
        "## 형태소 분석하기\n",
        "\n",
        "https://steemit.com/busy/@anpigon/5s1aam"
      ]
    },
    {
      "cell_type": "code",
      "execution_count": null,
      "metadata": {
        "id": "GEnwYF9uePGw"
      },
      "outputs": [],
      "source": []
    },
    {
      "cell_type": "markdown",
      "metadata": {
        "id": "NEYIXO0SePGw"
      },
      "source": [
        "## 형태소 분석 메뉴얼\n",
        "\n",
        " http://konlpy.org/en/latest/"
      ]
    },
    {
      "cell_type": "code",
      "execution_count": null,
      "metadata": {
        "id": "IKfdzZsPePGw"
      },
      "outputs": [],
      "source": [
        "import warnings                                     ## 경고메시지를 제어하는 모듈을 사용한다 \n",
        "warnings.filterwarnings(action='ignore')            ## 경고메시지를 출력되지 않도록 처리한다 "
      ]
    },
    {
      "cell_type": "code",
      "execution_count": null,
      "metadata": {
        "id": "FL4tnAiLePGx"
      },
      "outputs": [],
      "source": []
    },
    {
      "cell_type": "code",
      "execution_count": null,
      "metadata": {
        "id": "jtcv5m50ePGx"
      },
      "outputs": [],
      "source": [
        "import konlpy as ko                                    ## 한국어 자연어 처리하는 모듈을 사용한다 "
      ]
    },
    {
      "cell_type": "code",
      "execution_count": null,
      "metadata": {
        "id": "EcuP4iMwePGx"
      },
      "outputs": [],
      "source": []
    },
    {
      "cell_type": "code",
      "execution_count": null,
      "metadata": {
        "id": "Sm99yTeuePGx"
      },
      "outputs": [],
      "source": [
        "from konlpy.corpus import kolaw, kobill               ##  한국어 코퍼스 내의 문장을 사용한다 "
      ]
    },
    {
      "cell_type": "code",
      "execution_count": null,
      "metadata": {
        "id": "WCWmOrf0ePGy"
      },
      "outputs": [],
      "source": []
    },
    {
      "cell_type": "code",
      "execution_count": null,
      "metadata": {
        "id": "ugiuGRR2ePGy",
        "outputId": "387228b1-7f3e-44b3-a4aa-a06cb8e86398"
      },
      "outputs": [
        {
          "data": {
            "text/plain": [
              "['constitution.txt']"
            ]
          },
          "execution_count": 4,
          "metadata": {},
          "output_type": "execute_result"
        }
      ],
      "source": [
        "kolaw.fileids()                                     ## 헌법에 대한 텍스트 파일을 확인한다. "
      ]
    },
    {
      "cell_type": "code",
      "execution_count": null,
      "metadata": {
        "id": "buCRiyzzePGy",
        "outputId": "9553c97d-3686-4f87-9933-753e8a1fcf93"
      },
      "outputs": [
        {
          "data": {
            "text/plain": [
              "['1809896.txt',\n",
              " '1809897.txt',\n",
              " '1809895.txt',\n",
              " '1809894.txt',\n",
              " '1809890.txt',\n",
              " '1809891.txt',\n",
              " '1809893.txt',\n",
              " '1809892.txt',\n",
              " '1809899.txt',\n",
              " '1809898.txt']"
            ]
          },
          "execution_count": 5,
          "metadata": {},
          "output_type": "execute_result"
        }
      ],
      "source": [
        "kobill.fileids()                                   ## 일반 법률에 대한 텍스트 파일을 확인한다 "
      ]
    },
    {
      "cell_type": "code",
      "execution_count": null,
      "metadata": {
        "id": "r5Wna1y0ePGy"
      },
      "outputs": [],
      "source": []
    },
    {
      "cell_type": "code",
      "execution_count": null,
      "metadata": {
        "id": "oj89E__IePGz"
      },
      "outputs": [],
      "source": [
        "c = kolaw.open('constitution.txt').read()       ## 헌법 문서를 읽어온다 "
      ]
    },
    {
      "cell_type": "code",
      "execution_count": null,
      "metadata": {
        "id": "JqsxjundePGz"
      },
      "outputs": [],
      "source": []
    },
    {
      "cell_type": "code",
      "execution_count": null,
      "metadata": {
        "id": "v5WLKS37ePGz"
      },
      "outputs": [],
      "source": [
        "con = c.split('\\n\\n')                         ##  내부의 문장을 분리해서 리스트로 보관한다 "
      ]
    },
    {
      "cell_type": "code",
      "execution_count": null,
      "metadata": {
        "id": "HkFqx0hvePGz",
        "outputId": "eb15df51-3d4e-490c-cc9b-d8f3212f5ec5"
      },
      "outputs": [
        {
          "data": {
            "text/plain": [
              "'대한민국헌법'"
            ]
          },
          "execution_count": 8,
          "metadata": {},
          "output_type": "execute_result"
        }
      ],
      "source": [
        "con[0]                                        ## 첫번째 리스트 원소를 확인하면 헌법 제목이 나온다 "
      ]
    },
    {
      "cell_type": "code",
      "execution_count": null,
      "metadata": {
        "id": "OkClfhtnePGz"
      },
      "outputs": [],
      "source": [
        "con_sen = con[1]                              ## 실제 헌법에 대한 전문 문장을 가져온다 "
      ]
    },
    {
      "cell_type": "code",
      "execution_count": null,
      "metadata": {
        "id": "WRZ5JfyJePGz"
      },
      "outputs": [],
      "source": []
    },
    {
      "cell_type": "code",
      "execution_count": null,
      "metadata": {
        "id": "Y8d5lPPiePGz"
      },
      "outputs": [],
      "source": [
        "from konlpy.tag import Kkma                  ## 형태소를 분리하는 모듈을 사용한다 \n",
        "kkma = Kkma()                               ## 형태소 객체를 하나 만든다 "
      ]
    },
    {
      "cell_type": "markdown",
      "metadata": {
        "id": "rvGgkjjmePG0"
      },
      "source": [
        "## 문장분석하기"
      ]
    },
    {
      "cell_type": "code",
      "execution_count": null,
      "metadata": {
        "id": "jCE4-2OtePG0",
        "outputId": "f58c4fe3-2391-489e-b31a-429300ff8e4b"
      },
      "outputs": [
        {
          "data": {
            "text/plain": [
              "['유구한 역사와 전통에 빛나는 우리 대한 국민은 3·1 운동으로 건립된 대한민국 임시정부의 법통과 불의에 항거한 4·19 민주이념을 계승하고, 조국의 민주개혁과 평화적 통일의 사명에 입각하여 정의· 인도와 동포애로써 민족의 단결을 공고히 하고, 모든 사회적 폐습과 불의를 타파하며, 자율과 조화를 바탕으로 자유 민주적 기본질서를 더욱 확고히 하여 정치· 경제· 사회· 문화의 모든 영역에 있어서 각인의 기회를 균등 히 하고, 능력을 최고도로 발휘하게 하며, 자유와 권리에 따르는 책임과 의무를 완수하게 하여, 안으로는 국민생활의 균등한 향상을 기하고 밖으로는 항구적인 세계평화와 인류 공영에 이바지함으로써 우리들과 우리들의 자손의 안전과 자유와 행복을 영원히 확보할 것을 다짐하면서 1948년 7월 12일에 제정되고 8차에 걸쳐 개정된 헌법을 이제 국회의 의결을 거쳐 국민투표에 의하여 개정한다.']"
            ]
          },
          "execution_count": 11,
          "metadata": {},
          "output_type": "execute_result"
        }
      ],
      "source": [
        "kkma.sentences(con_sen)                      ## 문장을 분리하지만 하나의 문장이라서 리스트 내에 하나의 문자열만 표시한다 "
      ]
    },
    {
      "cell_type": "markdown",
      "metadata": {
        "id": "NExmTNFtePG0"
      },
      "source": [
        "## 명사 분석하기"
      ]
    },
    {
      "cell_type": "code",
      "execution_count": null,
      "metadata": {
        "id": "6ILM-rZ1ePG0"
      },
      "outputs": [],
      "source": [
        "con_sen_n = kkma.nouns(con_sen)             ##  명사를 기준으로 분리한다. "
      ]
    },
    {
      "cell_type": "code",
      "execution_count": null,
      "metadata": {
        "id": "G0VKxrllePG0",
        "outputId": "e7d0542f-6ed1-46c6-dc04-e425c66bf9ae"
      },
      "outputs": [
        {
          "data": {
            "text/plain": [
              "['유구', '역사', '전통', '우리', '국민', '3', '1', '1운동', '운동', '건립']"
            ]
          },
          "execution_count": 13,
          "metadata": {},
          "output_type": "execute_result"
        }
      ],
      "source": [
        "con_sen_n[:10]                              ## 분리한 명사를 10개만 확인한다. \n",
        "                                            ## 분리된 단어가 일부 겹치는 것을 확인할 수 있다. "
      ]
    },
    {
      "cell_type": "markdown",
      "metadata": {
        "id": "URX09D9BePG0"
      },
      "source": [
        "## 형태소 분석하기"
      ]
    },
    {
      "cell_type": "code",
      "execution_count": null,
      "metadata": {
        "id": "m5pnnUuVePG0"
      },
      "outputs": [],
      "source": [
        "con_sen_m = kkma.morphs(con_sen)             ## 한글을 형태소 별로 분리하면 접사와 조사가 분리되는 것을 볼 수 있다 "
      ]
    },
    {
      "cell_type": "code",
      "execution_count": null,
      "metadata": {
        "id": "trhVqxdhePG0",
        "outputId": "271c3ab3-bf9d-47a7-9182-88dcf3728ab3"
      },
      "outputs": [
        {
          "data": {
            "text/plain": [
              "['유구', '하', 'ㄴ', '역사', '와', '전통', '에', '빛나', '는', '우리']"
            ]
          },
          "execution_count": 15,
          "metadata": {},
          "output_type": "execute_result"
        }
      ],
      "source": [
        "con_sen_m[:10]"
      ]
    },
    {
      "cell_type": "code",
      "execution_count": null,
      "metadata": {
        "id": "_hy8TkSVePG1"
      },
      "outputs": [],
      "source": [
        "con_sen_p = kkma.pos(con_sen)                     ## 분리된 형태소의 품사를  표시한다. "
      ]
    },
    {
      "cell_type": "code",
      "execution_count": null,
      "metadata": {
        "id": "lpEG84tTePG1",
        "outputId": "b2351957-b4cb-4c09-b7c1-a7424eab3c63"
      },
      "outputs": [
        {
          "data": {
            "text/plain": [
              "[('유구', 'NNG'),\n",
              " ('하', 'XSV'),\n",
              " ('ㄴ', 'ETD'),\n",
              " ('역사', 'NNG'),\n",
              " ('와', 'JC'),\n",
              " ('전통', 'NNG'),\n",
              " ('에', 'JKM'),\n",
              " ('빛나', 'VV'),\n",
              " ('는', 'ETD'),\n",
              " ('우리', 'NNM')]"
            ]
          },
          "execution_count": 17,
          "metadata": {},
          "output_type": "execute_result"
        }
      ],
      "source": [
        "con_sen_p[:10]                                    ## 품사표시가 형태소 분리된 기준으로 영어로 표시된다."
      ]
    },
    {
      "cell_type": "markdown",
      "metadata": {
        "id": "OEeeQL_jePG1"
      },
      "source": [
        "## 한나눔 형태소 분석기 사용하기"
      ]
    },
    {
      "cell_type": "code",
      "execution_count": null,
      "metadata": {
        "id": "X2afKGQNePG1"
      },
      "outputs": [],
      "source": [
        "from konlpy.tag import Hannanum             ## 다른 형태소 분석하는 클래스를 사용한다 "
      ]
    },
    {
      "cell_type": "code",
      "execution_count": null,
      "metadata": {
        "id": "T31tTTJkePG1"
      },
      "outputs": [],
      "source": [
        "hannanum = Hannanum()                       ## 형태소 분리를 위해 객체를 만든다. "
      ]
    },
    {
      "cell_type": "code",
      "execution_count": null,
      "metadata": {
        "id": "9SSXKT0vePG1"
      },
      "outputs": [],
      "source": []
    },
    {
      "cell_type": "code",
      "execution_count": null,
      "metadata": {
        "id": "lNVMYjK6ePG1",
        "outputId": "7be87056-f7cb-4ce9-fea7-7ae850784a6c"
      },
      "outputs": [
        {
          "data": {
            "text/plain": [
              "['이것', '형태소', '분석기', '아버지', '방']"
            ]
          },
          "execution_count": 20,
          "metadata": {},
          "output_type": "execute_result"
        }
      ],
      "source": [
        "hannanum.nouns('이것은 형태소 분석기 입니다 아버지가 방에 들어가신다')      ## 문자열로 문장을 넣어 명사를 분리한다 "
      ]
    },
    {
      "cell_type": "code",
      "execution_count": null,
      "metadata": {
        "id": "GIfflgLdePG1"
      },
      "outputs": [],
      "source": []
    },
    {
      "cell_type": "code",
      "execution_count": null,
      "metadata": {
        "id": "cVAeMCgyePG2",
        "outputId": "c2ec5b36-72cf-4a84-9cdd-95aacba6cad8"
      },
      "outputs": [
        {
          "data": {
            "text/plain": [
              "['이것',\n",
              " '은',\n",
              " '형태소',\n",
              " '분석기',\n",
              " '일',\n",
              " 'ㅂ니다',\n",
              " '아버지',\n",
              " '가',\n",
              " '방',\n",
              " '에',\n",
              " '들',\n",
              " '어',\n",
              " '가',\n",
              " '시ㄴ다']"
            ]
          },
          "execution_count": 21,
          "metadata": {},
          "output_type": "execute_result"
        }
      ],
      "source": [
        "hannanum.morphs('이것은 형태소 분석기 입니다 아버지가 방에 들어가신다')      ## 형태소도 분석한다. "
      ]
    },
    {
      "cell_type": "code",
      "execution_count": null,
      "metadata": {
        "id": "Ml76NfpaePG2"
      },
      "outputs": [],
      "source": []
    },
    {
      "cell_type": "code",
      "execution_count": null,
      "metadata": {
        "id": "bVjiZoivePG2",
        "outputId": "4835c4d7-787e-49c3-850b-ef3960646742"
      },
      "outputs": [
        {
          "data": {
            "text/plain": [
              "[('이것', 'N'),\n",
              " ('은', 'J'),\n",
              " ('형태소', 'N'),\n",
              " ('분석기', 'N'),\n",
              " ('일', 'P'),\n",
              " ('ㅂ니다', 'E'),\n",
              " ('아버지', 'N'),\n",
              " ('가', 'J'),\n",
              " ('방', 'N'),\n",
              " ('에', 'J'),\n",
              " ('들', 'P'),\n",
              " ('어', 'E'),\n",
              " ('가', 'P'),\n",
              " ('시ㄴ다', 'E')]"
            ]
          },
          "execution_count": 22,
          "metadata": {},
          "output_type": "execute_result"
        }
      ],
      "source": [
        "hannanum.pos('이것은 형태소 분석기 입니다 아버지가 방에 들어가신다')      ## 형태소별로 품사를 확인한다. "
      ]
    },
    {
      "cell_type": "markdown",
      "metadata": {
        "id": "CiHjmSBPePG2"
      },
      "source": [
        "## Open Korean Text 형태소 분석기"
      ]
    },
    {
      "cell_type": "code",
      "execution_count": null,
      "metadata": {
        "id": "I1hgvicuePG2",
        "outputId": "c43b5f27-74c6-4262-b1d9-f57f5738eb55"
      },
      "outputs": [
        {
          "data": {
            "text/plain": [
              "['것', '형태소', '분석', '기', '아버지', '가방']"
            ]
          },
          "execution_count": 23,
          "metadata": {},
          "output_type": "execute_result"
        }
      ],
      "source": [
        "from konlpy.tag import Okt                                  ## 다른 형태소를 클래스를 가져온다. \n",
        "okt = Okt()\n",
        "okt.nouns('이것은 형태소 분석기 입니다 아버지가방에들어가신다')  ## 형태소 분석으로 명사를 추출한다.\n",
        "                                                                 ##  한글을 명사로 분리하는 기준이 차이가 있는 것을 볼 수 있다. "
      ]
    },
    {
      "cell_type": "code",
      "execution_count": null,
      "metadata": {
        "id": "i5E6gkt5ePG2"
      },
      "outputs": [],
      "source": []
    },
    {
      "cell_type": "code",
      "execution_count": null,
      "metadata": {
        "id": "szX58ywaePG2",
        "outputId": "6688c334-fbd2-4787-ede4-c2e024012c37"
      },
      "outputs": [
        {
          "data": {
            "text/plain": [
              "['이', '것', '은', '형태소', '분석', '기', '입니다', '아버지', '가방', '에', '들어가신다']"
            ]
          },
          "execution_count": 24,
          "metadata": {},
          "output_type": "execute_result"
        }
      ],
      "source": [
        "okt.morphs('이것은 형태소 분석기 입니다 아버지가방에들어가신다')        ## 형태소도 분리하는 기준이 차이가 있다 "
      ]
    },
    {
      "cell_type": "code",
      "execution_count": null,
      "metadata": {
        "id": "N1lBUoF9ePG2",
        "outputId": "3672b3bc-e96b-4fab-e1ba-55e6af98f2ed"
      },
      "outputs": [
        {
          "data": {
            "text/plain": [
              "[('이', 'Determiner'),\n",
              " ('것', 'Noun'),\n",
              " ('은', 'Josa'),\n",
              " ('형태소', 'Noun'),\n",
              " ('분석', 'Noun'),\n",
              " ('기', 'Noun'),\n",
              " ('입니다', 'Adjective'),\n",
              " ('아버지', 'Noun'),\n",
              " ('가방', 'Noun'),\n",
              " ('에', 'Josa'),\n",
              " ('들어가신다', 'Verb')]"
            ]
          },
          "execution_count": 25,
          "metadata": {},
          "output_type": "execute_result"
        }
      ],
      "source": [
        "okt.pos('이것은 형태소 분석기 입니다 아버지가방에들어가신다')           ## 형태소 분리대로 품사를 표시한다. "
      ]
    },
    {
      "cell_type": "code",
      "execution_count": null,
      "metadata": {
        "id": "xwiNfQyfePG3"
      },
      "outputs": [],
      "source": []
    },
    {
      "cell_type": "code",
      "execution_count": null,
      "metadata": {
        "id": "Ggf-jz7pePG3",
        "outputId": "9a26d497-8cf4-4141-aae6-4149f1987b0c"
      },
      "outputs": [
        {
          "name": "stdout",
          "output_type": "stream",
          "text": [
            "['이', '것', '은', '형태소', '분석', '기', '입니다', '아버지', '가방', '에', '들어가신다']\n",
            "['이', '것', '은', '형태소', '분석', '기', '이다', '아버지', '가방', '에', '들어가다']\n"
          ]
        }
      ],
      "source": [
        "text = \"이것은 형태소 분석기 입니다 아버지가방에들어가신다\"\n",
        "\n",
        "print(okt.morphs(text))\n",
        "print(okt.morphs(text, stem=True))              ## 형태소를 분리하면서 특정 단어의 어간을 표시하면 동사일때 기본형태로 변환된다 "
      ]
    },
    {
      "cell_type": "code",
      "execution_count": null,
      "metadata": {
        "id": "gbS27DisePG3"
      },
      "outputs": [],
      "source": []
    },
    {
      "cell_type": "code",
      "execution_count": null,
      "metadata": {
        "id": "--p4VT1qePG3",
        "outputId": "25ce78ad-048d-452a-e8c2-bf4d65b891cd"
      },
      "outputs": [
        {
          "data": {
            "text/plain": [
              "['이것', '형태소', '형태소 분석기', '아버지가방', '분석', '아버지', '가방']"
            ]
          },
          "execution_count": 27,
          "metadata": {},
          "output_type": "execute_result"
        }
      ],
      "source": [
        "okt.phrases(text)                            ## 특정 구별로 분리도 가능하다"
      ]
    },
    {
      "cell_type": "code",
      "execution_count": null,
      "metadata": {
        "id": "0NxQKFy7ePG3"
      },
      "outputs": [],
      "source": []
    },
    {
      "cell_type": "code",
      "execution_count": null,
      "metadata": {
        "id": "7APZayMYePG3"
      },
      "outputs": [],
      "source": [
        "import pandas as pd                ## 판다스 모듈을 사용한다 "
      ]
    },
    {
      "cell_type": "markdown",
      "metadata": {
        "id": "9m6lL8XVePG3"
      },
      "source": [
        "## 코모란 형태소 분석기"
      ]
    },
    {
      "cell_type": "code",
      "execution_count": null,
      "metadata": {
        "id": "eXbnrbUdePG3",
        "outputId": "b48e487e-5bbc-447d-d361-7c2991445e3e"
      },
      "outputs": [
        {
          "data": {
            "text/plain": [
              "['형태소', '분석기', '아버지', '가방']"
            ]
          },
          "execution_count": 29,
          "metadata": {},
          "output_type": "execute_result"
        }
      ],
      "source": [
        "from konlpy.tag import Komoran                    ## 다른 형태소 분석을 하는 클래스를 사용한다 \n",
        "komoran = Komoran()\n",
        "komoran.nouns('이것은 형태소 분석기 입니다 아버지가방에들어가신다')        ## 명사를 추출한다. \n",
        "                                                                           ## 띄어쓰기를 하지않으면 연결된 단어로 명사를 분리한다 "
      ]
    },
    {
      "cell_type": "code",
      "execution_count": null,
      "metadata": {
        "id": "JMn3l999ePG3"
      },
      "outputs": [],
      "source": []
    },
    {
      "cell_type": "code",
      "execution_count": null,
      "metadata": {
        "id": "QUCSwYS0ePG3",
        "outputId": "f4468a27-1559-40fa-ad1b-56cc30b00184"
      },
      "outputs": [
        {
          "data": {
            "text/plain": [
              "['이것', '은', '형태소', '분석기', '이', 'ㅂ니다', '아버지', '가방', '에', '들어가', '시', 'ㄴ다']"
            ]
          },
          "execution_count": 30,
          "metadata": {},
          "output_type": "execute_result"
        }
      ],
      "source": [
        "komoran.morphs('이것은 형태소 분석기 입니다 아버지가방에들어가신다')                ## 형태소로 분리한다 "
      ]
    },
    {
      "cell_type": "code",
      "execution_count": null,
      "metadata": {
        "id": "U7YmAOT4ePG4",
        "outputId": "c6f262b6-39aa-4057-cfa4-3c80ed28fb29"
      },
      "outputs": [
        {
          "data": {
            "text/plain": [
              "[('이것', 'NP'),\n",
              " ('은', 'JX'),\n",
              " ('형태소', 'NNP'),\n",
              " ('분석기', 'NNG'),\n",
              " ('이', 'VV'),\n",
              " ('ㅂ니다', 'EC'),\n",
              " ('아버지', 'NNG'),\n",
              " ('가방', 'NNP'),\n",
              " ('에', 'JKB'),\n",
              " ('들어가', 'VV'),\n",
              " ('시', 'EP'),\n",
              " ('ㄴ다', 'EC')]"
            ]
          },
          "execution_count": 31,
          "metadata": {},
          "output_type": "execute_result"
        }
      ],
      "source": [
        "komoran.pos('이것은 형태소 분석기 입니다 아버지가방에들어가신다')       ## 형태소에 맞는 품사를 표시한다 "
      ]
    },
    {
      "cell_type": "code",
      "execution_count": null,
      "metadata": {
        "id": "oYbaonmCePG4"
      },
      "outputs": [],
      "source": []
    },
    {
      "cell_type": "markdown",
      "metadata": {
        "id": "Ek87QxsKePG4"
      },
      "source": [
        "## 품사 정보 알아보기"
      ]
    },
    {
      "cell_type": "code",
      "execution_count": null,
      "metadata": {
        "id": "d3naZ4cbePG4",
        "outputId": "f6c0fe0f-3622-4f3b-e9af-4aeee5a63658"
      },
      "outputs": [
        {
          "data": {
            "text/plain": [
              "{'Adjective': '형용사',\n",
              " 'Adverb': '부사',\n",
              " 'Alpha': '알파벳',\n",
              " 'Conjunction': '접속사',\n",
              " 'Determiner': '관형사',\n",
              " 'Eomi': '어미',\n",
              " 'Exclamation': '감탄사',\n",
              " 'Foreign': '외국어, 한자 및 기타기호',\n",
              " 'Hashtag': '트위터 해쉬태그',\n",
              " 'Josa': '조사',\n",
              " 'KoreanParticle': '(ex: ㅋㅋ)',\n",
              " 'Noun': '명사',\n",
              " 'Number': '숫자',\n",
              " 'PreEomi': '선어말어미',\n",
              " 'Punctuation': '구두점',\n",
              " 'ScreenName': '트위터 아이디',\n",
              " 'Suffix': '접미사',\n",
              " 'Unknown': '미등록어',\n",
              " 'Verb': '동사'}"
            ]
          },
          "execution_count": 32,
          "metadata": {},
          "output_type": "execute_result"
        }
      ],
      "source": [
        "okt.tagset                                   ## 품사에 대한 정보를 확인한다. "
      ]
    },
    {
      "cell_type": "code",
      "execution_count": null,
      "metadata": {
        "id": "NYljDN1mePG4"
      },
      "outputs": [],
      "source": []
    },
    {
      "cell_type": "code",
      "execution_count": null,
      "metadata": {
        "id": "7R5YVNf9ePG4"
      },
      "outputs": [],
      "source": [
        "tagsets = pd.DataFrame()                            ## 빈 데이터프레임을 만든다. \n",
        "N = 67\n",
        "\n",
        "                                                   ##  한글 형태소 분서기에 있는 품사에 대한 정보를 데이터프레임에 넣는다. \n",
        "tagsets[\"Hannanum-기호\"] = list(hannanum.tagset.keys()) + list(\"*\" * (N - len(hannanum.tagset)))\n",
        "tagsets[\"Hannanum-품사\"] = list(hannanum.tagset.values()) + list(\"*\" * (N - len(hannanum.tagset)))\n",
        "tagsets[\"Kkma-기호\"] = list(kkma.tagset.keys()) + list(\"*\" * (N - len(kkma.tagset)))\n",
        "tagsets[\"Kkma-품사\"] = list(kkma.tagset.values()) + list(\"*\" * (N - len(kkma.tagset)))\n",
        "tagsets[\"Komoran-기호\"] = list(komoran.tagset.keys()) + list(\"*\" * (N - len(komoran.tagset)))\n",
        "tagsets[\"Komoran-품사\"] = list(komoran.tagset.values()) + list(\"*\" * (N - len(komoran.tagset)))\n",
        "tagsets[\"OKT-기호\"] = list(okt.tagset.keys()) + list(\"*\" * (N - len(okt.tagset)))\n",
        "tagsets[\"OKT-품사\"] = list(okt.tagset.values()) + list(\"*\" * (N - len(okt.tagset)))"
      ]
    },
    {
      "cell_type": "code",
      "execution_count": null,
      "metadata": {
        "id": "AiBJGV2pePG4"
      },
      "outputs": [],
      "source": []
    },
    {
      "cell_type": "code",
      "execution_count": null,
      "metadata": {
        "id": "Y6usY8CwePG4",
        "outputId": "ee866def-68fd-4af5-a2f5-18cfbd3ebdc7"
      },
      "outputs": [
        {
          "data": {
            "text/html": [
              "<div>\n",
              "<style scoped>\n",
              "    .dataframe tbody tr th:only-of-type {\n",
              "        vertical-align: middle;\n",
              "    }\n",
              "\n",
              "    .dataframe tbody tr th {\n",
              "        vertical-align: top;\n",
              "    }\n",
              "\n",
              "    .dataframe thead th {\n",
              "        text-align: right;\n",
              "    }\n",
              "</style>\n",
              "<table border=\"1\" class=\"dataframe\">\n",
              "  <thead>\n",
              "    <tr style=\"text-align: right;\">\n",
              "      <th></th>\n",
              "      <th>Hannanum-기호</th>\n",
              "      <th>Hannanum-품사</th>\n",
              "      <th>Kkma-기호</th>\n",
              "      <th>Kkma-품사</th>\n",
              "      <th>Komoran-기호</th>\n",
              "      <th>Komoran-품사</th>\n",
              "      <th>OKT-기호</th>\n",
              "      <th>OKT-품사</th>\n",
              "    </tr>\n",
              "  </thead>\n",
              "  <tbody>\n",
              "    <tr>\n",
              "      <td>0</td>\n",
              "      <td>E</td>\n",
              "      <td>어미</td>\n",
              "      <td>EC</td>\n",
              "      <td>연결 어미</td>\n",
              "      <td>EC</td>\n",
              "      <td>연결 어미</td>\n",
              "      <td>Adjective</td>\n",
              "      <td>형용사</td>\n",
              "    </tr>\n",
              "    <tr>\n",
              "      <td>1</td>\n",
              "      <td>EC</td>\n",
              "      <td>연결 어미</td>\n",
              "      <td>ECD</td>\n",
              "      <td>의존적 연결 어미</td>\n",
              "      <td>EF</td>\n",
              "      <td>종결 어미</td>\n",
              "      <td>Adverb</td>\n",
              "      <td>부사</td>\n",
              "    </tr>\n",
              "    <tr>\n",
              "      <td>2</td>\n",
              "      <td>EF</td>\n",
              "      <td>종결 어미</td>\n",
              "      <td>ECE</td>\n",
              "      <td>대등 연결 어미</td>\n",
              "      <td>EP</td>\n",
              "      <td>선어말어미</td>\n",
              "      <td>Alpha</td>\n",
              "      <td>알파벳</td>\n",
              "    </tr>\n",
              "    <tr>\n",
              "      <td>3</td>\n",
              "      <td>EP</td>\n",
              "      <td>선어말어미</td>\n",
              "      <td>ECS</td>\n",
              "      <td>보조적 연결 어미</td>\n",
              "      <td>ETM</td>\n",
              "      <td>관형형 전성 어미</td>\n",
              "      <td>Conjunction</td>\n",
              "      <td>접속사</td>\n",
              "    </tr>\n",
              "    <tr>\n",
              "      <td>4</td>\n",
              "      <td>ET</td>\n",
              "      <td>전성 어미</td>\n",
              "      <td>EF</td>\n",
              "      <td>종결 어미</td>\n",
              "      <td>ETN</td>\n",
              "      <td>명사형 전성 어미</td>\n",
              "      <td>Determiner</td>\n",
              "      <td>관형사</td>\n",
              "    </tr>\n",
              "  </tbody>\n",
              "</table>\n",
              "</div>"
            ],
            "text/plain": [
              "  Hannanum-기호 Hannanum-품사 Kkma-기호    Kkma-품사 Komoran-기호 Komoran-품사  \\\n",
              "0           E          어미      EC      연결 어미         EC      연결 어미   \n",
              "1          EC       연결 어미     ECD  의존적 연결 어미         EF      종결 어미   \n",
              "2          EF       종결 어미     ECE   대등 연결 어미         EP      선어말어미   \n",
              "3          EP       선어말어미     ECS  보조적 연결 어미        ETM  관형형 전성 어미   \n",
              "4          ET       전성 어미      EF      종결 어미        ETN  명사형 전성 어미   \n",
              "\n",
              "        OKT-기호 OKT-품사  \n",
              "0    Adjective    형용사  \n",
              "1       Adverb     부사  \n",
              "2        Alpha    알파벳  \n",
              "3  Conjunction    접속사  \n",
              "4   Determiner    관형사  "
            ]
          },
          "execution_count": 34,
          "metadata": {},
          "output_type": "execute_result"
        }
      ],
      "source": [
        "tagsets.head()                        ## 만들어지 품사의 정보를 확인한다. "
      ]
    },
    {
      "cell_type": "code",
      "execution_count": null,
      "metadata": {
        "id": "CSALTKYhePG4",
        "outputId": "b49ddc05-7566-4c91-cdb5-446bcdfa6e39"
      },
      "outputs": [
        {
          "data": {
            "text/html": [
              "<div>\n",
              "<style scoped>\n",
              "    .dataframe tbody tr th:only-of-type {\n",
              "        vertical-align: middle;\n",
              "    }\n",
              "\n",
              "    .dataframe tbody tr th {\n",
              "        vertical-align: top;\n",
              "    }\n",
              "\n",
              "    .dataframe thead th {\n",
              "        text-align: right;\n",
              "    }\n",
              "</style>\n",
              "<table border=\"1\" class=\"dataframe\">\n",
              "  <thead>\n",
              "    <tr style=\"text-align: right;\">\n",
              "      <th></th>\n",
              "      <th>Hannanum-기호</th>\n",
              "      <th>Hannanum-품사</th>\n",
              "      <th>Kkma-기호</th>\n",
              "      <th>Kkma-품사</th>\n",
              "      <th>Komoran-기호</th>\n",
              "      <th>Komoran-품사</th>\n",
              "      <th>OKT-기호</th>\n",
              "      <th>OKT-품사</th>\n",
              "    </tr>\n",
              "  </thead>\n",
              "  <tbody>\n",
              "    <tr>\n",
              "      <td>62</td>\n",
              "      <td>*</td>\n",
              "      <td>*</td>\n",
              "      <td>XPV</td>\n",
              "      <td>용언 접두사</td>\n",
              "      <td>*</td>\n",
              "      <td>*</td>\n",
              "      <td>*</td>\n",
              "      <td>*</td>\n",
              "    </tr>\n",
              "    <tr>\n",
              "      <td>63</td>\n",
              "      <td>*</td>\n",
              "      <td>*</td>\n",
              "      <td>XR</td>\n",
              "      <td>어근</td>\n",
              "      <td>*</td>\n",
              "      <td>*</td>\n",
              "      <td>*</td>\n",
              "      <td>*</td>\n",
              "    </tr>\n",
              "    <tr>\n",
              "      <td>64</td>\n",
              "      <td>*</td>\n",
              "      <td>*</td>\n",
              "      <td>XSA</td>\n",
              "      <td>형용사 파생 접미사</td>\n",
              "      <td>*</td>\n",
              "      <td>*</td>\n",
              "      <td>*</td>\n",
              "      <td>*</td>\n",
              "    </tr>\n",
              "    <tr>\n",
              "      <td>65</td>\n",
              "      <td>*</td>\n",
              "      <td>*</td>\n",
              "      <td>XSN</td>\n",
              "      <td>명사파생 접미사</td>\n",
              "      <td>*</td>\n",
              "      <td>*</td>\n",
              "      <td>*</td>\n",
              "      <td>*</td>\n",
              "    </tr>\n",
              "    <tr>\n",
              "      <td>66</td>\n",
              "      <td>*</td>\n",
              "      <td>*</td>\n",
              "      <td>XSV</td>\n",
              "      <td>동사 파생 접미사</td>\n",
              "      <td>*</td>\n",
              "      <td>*</td>\n",
              "      <td>*</td>\n",
              "      <td>*</td>\n",
              "    </tr>\n",
              "  </tbody>\n",
              "</table>\n",
              "</div>"
            ],
            "text/plain": [
              "   Hannanum-기호 Hannanum-품사 Kkma-기호     Kkma-품사 Komoran-기호 Komoran-품사 OKT-기호  \\\n",
              "62           *           *     XPV      용언 접두사          *          *      *   \n",
              "63           *           *      XR          어근          *          *      *   \n",
              "64           *           *     XSA  형용사 파생 접미사          *          *      *   \n",
              "65           *           *     XSN    명사파생 접미사          *          *      *   \n",
              "66           *           *     XSV   동사 파생 접미사          *          *      *   \n",
              "\n",
              "   OKT-품사  \n",
              "62      *  \n",
              "63      *  \n",
              "64      *  \n",
              "65      *  \n",
              "66      *  "
            ]
          },
          "execution_count": 35,
          "metadata": {},
          "output_type": "execute_result"
        }
      ],
      "source": [
        "tagsets.tail()"
      ]
    },
    {
      "cell_type": "code",
      "execution_count": null,
      "metadata": {
        "id": "TT2E1CGTePG5"
      },
      "outputs": [],
      "source": []
    },
    {
      "cell_type": "markdown",
      "metadata": {
        "id": "OvVs-pgnePG5"
      },
      "source": [
        "## 은전한닢 형태소 분석기 \n",
        "   windows 지원하지 않음"
      ]
    },
    {
      "cell_type": "code",
      "execution_count": null,
      "metadata": {
        "id": "HarJDjtvePG5",
        "outputId": "9884569e-5a97-447d-8239-14a5fc4813e1"
      },
      "outputs": [
        {
          "name": "stdout",
          "output_type": "stream",
          "text": [
            "['이것', '형태소', '분석기', '아버지', '방']\n"
          ]
        }
      ],
      "source": [
        "import sys \n",
        "\n",
        "if sys.platform == 'darwin' :\n",
        "    \n",
        "    from konlpy.tag import Mecab                          ## 윈도우즈에서 지원을 하지 않아서 맥 OS에서 명사를 분리한다 \n",
        "    mecab = Mecab()\n",
        "    print(mecab.nouns('이것은 형태소 분석기 입니다 아버지가방에들어가신다'))\n",
        "else :\n",
        "    pass"
      ]
    },
    {
      "cell_type": "code",
      "execution_count": null,
      "metadata": {
        "id": "NRHg86K2ePG5"
      },
      "outputs": [],
      "source": []
    },
    {
      "cell_type": "code",
      "execution_count": null,
      "metadata": {
        "id": "DAh8bnZbePG5",
        "outputId": "b5987c7e-0cf4-4d41-aa7f-3a2fb063ab4f"
      },
      "outputs": [
        {
          "name": "stdout",
          "output_type": "stream",
          "text": [
            "[('이것', 'NP'),\n",
            " ('은', 'JX'),\n",
            " ('형태소', 'NNG'),\n",
            " ('분석기', 'NNG'),\n",
            " ('입니다', 'VCP+EF'),\n",
            " ('아버지', 'NNG'),\n",
            " ('가', 'JKS'),\n",
            " ('방', 'NNG'),\n",
            " ('에', 'JKB'),\n",
            " ('들어가', 'VV'),\n",
            " ('신다', 'EP+EC')]\n"
          ]
        }
      ],
      "source": [
        "import pprint                                    ## 출력을 하는 모듈을 사용한다 \n",
        "if sys.platform == 'darwin' :    \n",
        "    pprint.pprint(mecab.pos('이것은 형태소 분석기 입니다 아버지가방에들어가신다'))         ## 형태소 분석하고 품사를 알아본다 \n",
        "else :\n",
        "    pass"
      ]
    },
    {
      "cell_type": "code",
      "execution_count": null,
      "metadata": {
        "id": "6sf038DuePG5"
      },
      "outputs": [],
      "source": []
    },
    {
      "cell_type": "code",
      "execution_count": null,
      "metadata": {
        "id": "GRuRefMVePG5"
      },
      "outputs": [],
      "source": [
        "from eunjeon import Mecab                          ## KoNLPy 내의 Mecab을 파이썬 버전으로 만든 모듈을 사용한다. \n",
        "tagger = Mecab()"
      ]
    },
    {
      "cell_type": "code",
      "execution_count": null,
      "metadata": {
        "id": "ppZOF2n-ePG5",
        "outputId": "89f7502f-f6f8-4e31-a6ee-d232235b145e"
      },
      "outputs": [
        {
          "data": {
            "text/plain": [
              "['고양이', '녜']"
            ]
          },
          "execution_count": 2,
          "metadata": {},
          "output_type": "execute_result"
        }
      ],
      "source": [
        "tagger.nouns(\"고양이가 냐 하고 울면 나는 녜 하고 울어야지\")            ## 명사를 분리한다 "
      ]
    },
    {
      "cell_type": "code",
      "execution_count": null,
      "metadata": {
        "id": "t6-DE2hOePG5",
        "outputId": "ab598a43-6a70-4905-d86b-83a8b7eb35f3"
      },
      "outputs": [
        {
          "data": {
            "text/plain": [
              "['고양이', '가', '냐', '하', '고', '울', '면', '나', '는', '녜', '하', '고', '울', '어야지']"
            ]
          },
          "execution_count": 3,
          "metadata": {},
          "output_type": "execute_result"
        }
      ],
      "source": [
        "tagger.morphs(\"고양이가 냐 하고 울면 나는 녜 하고 울어야지\")              ## 형태소를 분리한다. "
      ]
    },
    {
      "cell_type": "code",
      "execution_count": null,
      "metadata": {
        "id": "kFjX7iVsePG6",
        "outputId": "2e005d3c-161b-4ff4-9567-6a2267f880c9"
      },
      "outputs": [
        {
          "data": {
            "text/plain": [
              "[('고양이', 'NNG'),\n",
              " ('가', 'VV'),\n",
              " ('냐', 'EC'),\n",
              " ('하', 'VV'),\n",
              " ('고', 'EC'),\n",
              " ('울', 'VV'),\n",
              " ('면', 'EC'),\n",
              " ('나', 'VX'),\n",
              " ('는', 'ETM'),\n",
              " ('녜', 'NNG'),\n",
              " ('하', 'XSV'),\n",
              " ('고', 'EC'),\n",
              " ('울', 'VV'),\n",
              " ('어야지', 'EC')]"
            ]
          },
          "execution_count": 4,
          "metadata": {},
          "output_type": "execute_result"
        }
      ],
      "source": [
        "tagger.pos(\"고양이가 냐 하고 울면 나는 녜 하고 울어야지\")      ## 형태소에 맞는 품사를 확인한다 "
      ]
    },
    {
      "cell_type": "code",
      "execution_count": null,
      "metadata": {
        "id": "EtKfc7RsePG6"
      },
      "outputs": [],
      "source": []
    },
    {
      "cell_type": "code",
      "execution_count": null,
      "metadata": {
        "id": "ebOLSpe_ePG6"
      },
      "outputs": [],
      "source": []
    },
    {
      "cell_type": "code",
      "execution_count": null,
      "metadata": {
        "id": "uFqDXOBhePG6"
      },
      "outputs": [],
      "source": [
        "import nltk                     ## 자연어 처리하는 모듈을 확인한다 "
      ]
    },
    {
      "cell_type": "code",
      "execution_count": null,
      "metadata": {
        "id": "IQJRLrQhePG6"
      },
      "outputs": [],
      "source": [
        "from konlpy.corpus import kobill\n",
        "files_ko = kobill.fileids()"
      ]
    },
    {
      "cell_type": "code",
      "execution_count": null,
      "metadata": {
        "id": "SdF4p_wAePG6",
        "outputId": "46616e13-f7c4-4b9a-ecb3-9ce5240d4dda"
      },
      "outputs": [
        {
          "data": {
            "text/plain": [
              "['1809896.txt',\n",
              " '1809897.txt',\n",
              " '1809895.txt',\n",
              " '1809894.txt',\n",
              " '1809890.txt',\n",
              " '1809891.txt',\n",
              " '1809893.txt',\n",
              " '1809892.txt',\n",
              " '1809899.txt',\n",
              " '1809898.txt']"
            ]
          },
          "execution_count": 39,
          "metadata": {},
          "output_type": "execute_result"
        }
      ],
      "source": [
        "files_ko"
      ]
    },
    {
      "cell_type": "code",
      "execution_count": null,
      "metadata": {
        "id": "3gf_hYlXePG6"
      },
      "outputs": [],
      "source": []
    },
    {
      "cell_type": "code",
      "execution_count": null,
      "metadata": {
        "id": "6nQpn-Q3ePG6"
      },
      "outputs": [],
      "source": [
        "doc_ko = kobill.open('1809898.txt').read()         ## 특정 텍스트 파일을 읽어온다 "
      ]
    },
    {
      "cell_type": "code",
      "execution_count": null,
      "metadata": {
        "id": "D6an2xuUePG6"
      },
      "outputs": [],
      "source": []
    },
    {
      "cell_type": "code",
      "execution_count": null,
      "metadata": {
        "id": "Em-lx_AfePG6",
        "outputId": "f807df98-6f29-47df-dcf5-7c764e06b08c"
      },
      "outputs": [
        {
          "name": "stdout",
          "output_type": "stream",
          "text": [
            "['국군', '부대', '소말리아', '해역', '파견', '연장', '의안', '의안', '제출', '연월일']\n"
          ]
        }
      ],
      "source": [
        "t = Okt()\n",
        "tokens_ko = t.nouns(doc_ko)                ## 텍스트에서 명사를 추출한다. \n",
        "print(tokens_ko[:10])"
      ]
    },
    {
      "cell_type": "code",
      "execution_count": null,
      "metadata": {
        "id": "ssqYoMAlePG6"
      },
      "outputs": [],
      "source": []
    },
    {
      "cell_type": "code",
      "execution_count": null,
      "metadata": {
        "id": "ftWFOSjxePG7"
      },
      "outputs": [],
      "source": [
        "ko_ = nltk.Text(tokens_ko, name='국군부대의 소말리아 해역 파견연장 동의안')       ## 명사로 추출한 것을 텍스트 객체로 만든다 "
      ]
    },
    {
      "cell_type": "code",
      "execution_count": null,
      "metadata": {
        "id": "_S1hi0J_ePG7",
        "outputId": "27118a5e-c55a-4f9b-aae2-c3c7f61a523b"
      },
      "outputs": [
        {
          "data": {
            "text/plain": [
              "<Text: 국군부대의 소말리아 해역 파견연장 동의안>"
            ]
          },
          "execution_count": 43,
          "metadata": {},
          "output_type": "execute_result"
        }
      ],
      "source": [
        "ko_"
      ]
    },
    {
      "cell_type": "code",
      "execution_count": null,
      "metadata": {
        "id": "04sqBsxjePG7"
      },
      "outputs": [],
      "source": []
    },
    {
      "cell_type": "code",
      "execution_count": null,
      "metadata": {
        "id": "GLqsqrLlePG7",
        "outputId": "29cfabea-cf74-44ff-b6b5-9dce9a3ca173"
      },
      "outputs": [
        {
          "data": {
            "text/plain": [
              "640"
            ]
          },
          "execution_count": 44,
          "metadata": {},
          "output_type": "execute_result"
        }
      ],
      "source": [
        "len(ko_.tokens)                         ##  명사로 분리된 개수를 확인한다 "
      ]
    },
    {
      "cell_type": "code",
      "execution_count": null,
      "metadata": {
        "id": "_UPq_XKbePG7",
        "outputId": "16d354e1-aa47-41f8-f1da-f2d4ab464ff0"
      },
      "outputs": [
        {
          "data": {
            "text/plain": [
              "249"
            ]
          },
          "execution_count": 45,
          "metadata": {},
          "output_type": "execute_result"
        }
      ],
      "source": [
        "len(set(ko_.tokens))                   ## 유일한 단어의 개수를 확인한다 "
      ]
    },
    {
      "cell_type": "code",
      "execution_count": null,
      "metadata": {
        "id": "-uR4uA4jePG7"
      },
      "outputs": [],
      "source": []
    },
    {
      "cell_type": "code",
      "execution_count": null,
      "metadata": {
        "id": "Uf2W9GnMePG7",
        "outputId": "764168bd-0653-45dd-fa20-a5f7e6e2540d"
      },
      "outputs": [
        {
          "data": {
            "text/plain": [
              "['국군', '부대', '소말리아', '해역', '파견', '연장', '의안', '의안', '제출', '연월일']"
            ]
          },
          "execution_count": 46,
          "metadata": {},
          "output_type": "execute_result"
        }
      ],
      "source": [
        "ko_.tokens[:10]"
      ]
    },
    {
      "cell_type": "code",
      "execution_count": null,
      "metadata": {
        "id": "GggL6Dj2ePG7"
      },
      "outputs": [],
      "source": []
    },
    {
      "cell_type": "code",
      "execution_count": null,
      "metadata": {
        "id": "EttatOs0ePG7",
        "outputId": "71b7ed88-345b-456f-c438-973a25f4638d"
      },
      "outputs": [
        {
          "data": {
            "text/plain": [
              "FreqDist({'파견': 31, '부대': 24, '소말리아': 18, '연장': 14, '국군': 13, '해역': 12, '의안': 11, '우리': 9, '유엔': 9, '척': 9, ...})"
            ]
          },
          "execution_count": 47,
          "metadata": {},
          "output_type": "execute_result"
        }
      ],
      "source": [
        "ko_.vocab()                    ## 동일한 단어의 발생 빈도를 확인한다. "
      ]
    },
    {
      "cell_type": "code",
      "execution_count": null,
      "metadata": {
        "id": "DIaTf0YpePG7"
      },
      "outputs": [],
      "source": []
    },
    {
      "cell_type": "code",
      "execution_count": null,
      "metadata": {
        "id": "aw3P_xBbePG7"
      },
      "outputs": [],
      "source": [
        "%matplotlib inline\n",
        "import matplotlib.pyplot as plt\n",
        "import sys\n",
        "\n",
        "from matplotlib import font_manager, rc              ## 한글 폰트를 처리하는 모듈을 사용한다. \n",
        "\n",
        "if sys.platform  == 'darwin':\n",
        "    path = '/Library/Fonts/AppleGothic.ttf'  \n",
        "elif platform.system() == 'Windows':\n",
        "    path = \"c:/Windows/Fonts/malgun.ttf\"\n",
        "else:\n",
        "    print('Unknown system... sorry~~~~') \n",
        "    \n",
        "font_name = font_manager.FontProperties(fname=path).get_name()\n",
        "rc('font', family=font_name)"
      ]
    },
    {
      "cell_type": "code",
      "execution_count": null,
      "metadata": {
        "id": "Y5alS9LkePG8"
      },
      "outputs": [],
      "source": []
    },
    {
      "cell_type": "code",
      "execution_count": null,
      "metadata": {
        "scrolled": false,
        "id": "VuavCjnPePG8",
        "outputId": "3f95a557-ae42-4f2a-88d8-b764e4993757"
      },
      "outputs": [
        {
          "data": {
            "image/png": "[encoded data removed]",
            "text/plain": [
              "<Figure size 864x432 with 1 Axes>"
            ]
          },
          "metadata": {
            "needs_background": "light"
          },
          "output_type": "display_data"
        }
      ],
      "source": [
        "plt.figure(figsize=(12,6))\n",
        "ko_.plot(50)                         ## 단어별로 발생빈도에 맞도록 그래프를 그린다. "
      ]
    },
    {
      "cell_type": "code",
      "execution_count": null,
      "metadata": {
        "id": "rlmmOhmaePG8"
      },
      "outputs": [],
      "source": []
    },
    {
      "cell_type": "code",
      "execution_count": null,
      "metadata": {
        "id": "eON4uB-iePG8",
        "outputId": "2bcd9dc3-e67f-4eb9-83e6-17abfad5955a"
      },
      "outputs": [
        {
          "data": {
            "text/plain": [
              "31"
            ]
          },
          "execution_count": 50,
          "metadata": {},
          "output_type": "execute_result"
        }
      ],
      "source": [
        "ko_.count('파견')                  ## 특정 단어의 발생빈도를 확인한다. "
      ]
    },
    {
      "cell_type": "code",
      "execution_count": null,
      "metadata": {
        "id": "1yTBFZciePG8",
        "outputId": "56d8f7f7-6dff-4eb0-9319-e5eab5f52dc0"
      },
      "outputs": [
        {
          "data": {
            "text/plain": [
              "18"
            ]
          },
          "execution_count": 51,
          "metadata": {},
          "output_type": "execute_result"
        }
      ],
      "source": [
        "ko_.count('소말리아')"
      ]
    },
    {
      "cell_type": "code",
      "execution_count": null,
      "metadata": {
        "id": "3j5hn6fbePG8"
      },
      "outputs": [],
      "source": []
    },
    {
      "cell_type": "code",
      "execution_count": null,
      "metadata": {
        "id": "xVwh8_cDePG8",
        "outputId": "810cdb68-12f9-4376-dc37-6ab4ecab9401"
      },
      "outputs": [
        {
          "data": {
            "image/png": "[encoded data removed]",
            "text/plain": [
              "<Figure size 864x432 with 1 Axes>"
            ]
          },
          "metadata": {
            "needs_background": "light"
          },
          "output_type": "display_data"
        }
      ],
      "source": [
        "plt.figure(figsize=(12,6))\n",
        "ko_.dispersion_plot(['파견', '부대', '소말리아'])        ## 특정 단어들의 발생하는 위치를 확인한다. "
      ]
    },
    {
      "cell_type": "code",
      "execution_count": null,
      "metadata": {
        "id": "nXvhVk4jePG8"
      },
      "outputs": [],
      "source": []
    },
    {
      "cell_type": "code",
      "execution_count": null,
      "metadata": {
        "id": "gFZJUI_OePG8",
        "outputId": "f6672efa-60d7-4e11-92f0-12304a6f9b19"
      },
      "outputs": [
        {
          "name": "stdout",
          "output_type": "stream",
          "text": [
            "Displaying 18 of 18 matches:\n",
            "국군 부대 소말리아 해역 파견 연장 의안 의안 제출 연월일 번호 제 자 정 부 제안 \n",
            " 파견 연장 의안 의안 제출 연월일 번호 제 자 정 부 제안 이유 소말리아 아덴만 해역 파견 국군 부대 청해부대 의 파견 기간 종료 예정 다\n",
            "부대 의 파견 기간 종료 예정 다음 이유 파견 기간 연장 함 첫째 소말리아 해적 활동 우리 선박 안전 위협 둘째 청해부대 성공 임무 수행 우\n",
            "여 국내외 관계 기관 파견 연장 요청 내용 유엔 안보리 결의 근거 소말리아 아덴만 해역 파견 국군 부대 파견 기간 장함 나 국군 부대 임무 \n",
            "심의 과정 반영 추진 합 의 기획재정부 외교통상부 합의 국군 부대 소말리아 해역 파견 연장 의안 헌법 제 항의 규정 소말리아 아덴만 해역 파\n",
            "합의 국군 부대 소말리아 해역 파견 연장 의안 헌법 제 항의 규정 소말리아 아덴만 해역 파견 국군 부대 파견 기간 연장 동의 국군 부대 파견\n",
            " 방지 및 지원 차단 위 협력 국 협력 촉구 유엔 안보리 결의 호 소말리아 과도정부 출범 이후 무 정부 상태 지속 부터 소말리아 해역 해적 \n",
            "리 결의 호 소말리아 과도정부 출범 이후 무 정부 상태 지속 부터 소말리아 해역 해적 활동 급증 선박 피랍 척 척 척 척 척 유엔 소말리아 \n",
            " 소말리아 해역 해적 활동 급증 선박 피랍 척 척 척 척 척 유엔 소말리아 해적 퇴치 위해 회원 국 군함 및 항공기 참여 요청 유엔 안보리 \n",
            " 합동 실 사단 파견 바레인 지부티 유엔 외국 정부 및 지역 기구 소말리아 영해 진입 연장 유엔안보리 결의 호 유엔 소말리아 해적 퇴치 위해\n",
            " 및 지역 기구 소말리아 영해 진입 연장 유엔안보리 결의 호 유엔 소말리아 해적 퇴치 위해 소말리아 내 모든 조치 취할 수 승인 유엔 안보리\n",
            "영해 진입 연장 유엔안보리 결의 호 유엔 소말리아 해적 퇴치 위해 소말리아 내 모든 조치 취할 수 승인 유엔 안보리 결의 호 파견 의안 국회\n",
            "회 가결 부대 파견 파견 연장 의안 국회 가결 국무회의 국군 부대 소말리아 해역 파견 연장 의안 심의 의결 기본 계획 파견 부대 규모 전력 \n",
            "축함 톤 척 헬기 고속 단정 척 탑재 인원 명 이내 나 파견 지역 소말리아 아덴만 해역 일대 임 무 국제 해상 안전 테러 대응 위 국제 노력\n",
            " 국회 동의 후 예산안 대한 국회 심의 과정 반영 추진 국군 부대 소말리아 해역 파견 연장 의안 비용 추계 비용 추계 요약 재정 요인 부대 \n",
            "부대 파견 경비 우리 정부 부담 함 나 비용 추계 전제 국군 부대 소말리아 해역 파견 연장 의안 파견 연장 기간 부터 파견 부대 규모 전력 \n",
            " 비 장비 물자 획득 기타 부대 운영 비 나 수 입 계 국군 부대 소말리아 해역 파견 연장 의안 재원 조달 계획 부문 별 재원 분담 계획 단\n",
            " 단체 민 간 합 계 재원 조달 구체 방안 이후 합 계 국군 부대 소말리아 해역 파견 연장 의안 예산 정부 예산 지출 예정 임 부대 의견 협\n"
          ]
        }
      ],
      "source": [
        "ko_.concordance('소말리아')             ## 특정 단어가 있는 곳은 단어를 확인한다. "
      ]
    },
    {
      "cell_type": "code",
      "execution_count": null,
      "metadata": {
        "id": "gQf9PImtePG8"
      },
      "outputs": [],
      "source": []
    },
    {
      "cell_type": "code",
      "execution_count": null,
      "metadata": {
        "id": "_hR__8YIePG8"
      },
      "outputs": [],
      "source": [
        "from  wordcloud import WordCloud                 ## 단어들의 빈도에 따른 그래프를 그리는 모듈을 사용한다. "
      ]
    },
    {
      "cell_type": "code",
      "execution_count": null,
      "metadata": {
        "id": "_g2xst84ePG9"
      },
      "outputs": [],
      "source": [
        "data = ko_.vocab().most_common(150)                 ## 가장 많이 발생한 단어를 선택한다. "
      ]
    },
    {
      "cell_type": "code",
      "execution_count": null,
      "metadata": {
        "id": "Mdg9wMD_ePG9",
        "outputId": "e61f6487-1409-49e7-8d3b-5323230fa3fb"
      },
      "outputs": [
        {
          "data": {
            "text/plain": [
              "[('파견', 31), ('부대', 24), ('소말리아', 18), ('연장', 14), ('국군', 13)]"
            ]
          },
          "execution_count": 56,
          "metadata": {},
          "output_type": "execute_result"
        }
      ],
      "source": [
        "data[:5]"
      ]
    },
    {
      "cell_type": "code",
      "execution_count": null,
      "metadata": {
        "id": "WM7W1_6WePG9"
      },
      "outputs": [],
      "source": []
    },
    {
      "cell_type": "code",
      "execution_count": null,
      "metadata": {
        "id": "zE8C3h9yePG9",
        "outputId": "9a863f0a-1dd9-4c5f-f85e-374b8725a725"
      },
      "outputs": [
        {
          "data": {
            "image/png": "[encoded data removed]",
            "text/plain": [
              "<Figure size 720x432 with 1 Axes>"
            ]
          },
          "metadata": {
            "needs_background": "light"
          },
          "output_type": "display_data"
        }
      ],
      "source": [
        "                                                                         ## 워드 클라우드의 객체를 만든다\n",
        "wordcloud = WordCloud(font_path=path,                                    ## .한글에 대한 위치를 표시한다. \n",
        "                      relative_scaling = 0.2,\n",
        "                      background_color='white',\n",
        "                      ).generate_from_frequencies(dict(data))             ## .단어별 빈도수를 딕셔너리로 변환해서 전달한다 \n",
        "plt.figure(figsize=(10,6))\n",
        "plt.imshow(wordcloud)                                                      ## .이미지를 출력한다 \n",
        "plt.axis(\"off\")                                                            ## 그래프에 대한 축을 표시하지 않는다 \n",
        "plt.show()"
      ]
    },
    {
      "cell_type": "code",
      "execution_count": null,
      "metadata": {
        "id": "Y0ImUDQKePG9"
      },
      "outputs": [],
      "source": []
    }
  ],
  "metadata": {
    "kernelspec": {
      "display_name": "Python 3",
      "language": "python",
      "name": "python3"
    },
    "language_info": {
      "codemirror_mode": {
        "name": "ipython",
        "version": 3
      },
      "file_extension": ".py",
      "mimetype": "text/x-python",
      "name": "python",
      "nbconvert_exporter": "python",
      "pygments_lexer": "ipython3",
      "version": "3.7.3"
    },
    "colab": {
      "provenance": []
    }
  },
  "nbformat": 4,
  "nbformat_minor": 0
}